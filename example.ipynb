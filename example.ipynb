{
 "cells": [
  {
   "metadata": {
    "ExecuteTime": {
     "end_time": "2025-01-28T22:09:58.420415Z",
     "start_time": "2025-01-28T22:09:58.399575Z"
    }
   },
   "cell_type": "code",
   "source": "import nf",
   "id": "f0fc5f63306c3206",
   "outputs": [
    {
     "ename": "ModuleNotFoundError",
     "evalue": "No module named 'nfdrs4'",
     "output_type": "error",
     "traceback": [
      "\u001B[1;31m---------------------------------------------------------------------------\u001B[0m",
      "\u001B[1;31mModuleNotFoundError\u001B[0m                       Traceback (most recent call last)",
      "Cell \u001B[1;32mIn[2], line 1\u001B[0m\n\u001B[1;32m----> 1\u001B[0m \u001B[38;5;28;01mimport\u001B[39;00m\u001B[38;5;250m \u001B[39m\u001B[38;5;21;01mnfdrs4\u001B[39;00m\n",
      "\u001B[1;31mModuleNotFoundError\u001B[0m: No module named 'nfdrs4'"
     ]
    }
   ],
   "execution_count": 2
  },
  {
   "cell_type": "code",
   "execution_count": null,
   "id": "initial_id",
   "metadata": {
    "collapsed": true
   },
   "outputs": [],
   "source": [
    ">>> import nfdrs4\n",
    ">>> nf= nfdrs4.DeadFuelMoisture.createDeadFuelMoisture1()\n",
    ">>> nf.update(1,1,1,1,1)\n",
    "True\n",
    ">>> nf.medianRadialMoisture()\n",
    "0.5606049792805294\n",
    ">>> nf.setAdsorptionRate(0.4)\n",
    ">>> nf.diffusivitySteps()\n",
    "25\n",
    ">>> nf.deriveStickNodes(0.3)\n",
    "11"
   ]
  }
 ],
 "metadata": {
  "kernelspec": {
   "display_name": "Python 3",
   "language": "python",
   "name": "python3"
  },
  "language_info": {
   "codemirror_mode": {
    "name": "ipython",
    "version": 2
   },
   "file_extension": ".py",
   "mimetype": "text/x-python",
   "name": "python",
   "nbconvert_exporter": "python",
   "pygments_lexer": "ipython2",
   "version": "2.7.6"
  }
 },
 "nbformat": 4,
 "nbformat_minor": 5
}
