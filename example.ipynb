{
 "cells": [
  {
   "metadata": {
    "jupyter": {
     "is_executing": true
    }
   },
   "cell_type": "code",
   "source": "import nfdrs4py",
   "id": "f0fc5f63306c3206",
   "outputs": [],
   "execution_count": null
  },
  {
   "cell_type": "code",
   "execution_count": null,
   "id": "initial_id",
   "metadata": {
    "collapsed": true
   },
   "outputs": [],
   "source": [
    ">>> import nfdrs4\n",
    ">>> nf= nfdrs4.DeadFuelMoisture.createDeadFuelMoisture1()\n",
    ">>> nf.update(1,1,1,1,1)\n",
    "True\n",
    ">>> nf.medianRadialMoisture()\n",
    "0.5606049792805294\n",
    ">>> nf.setAdsorptionRate(0.4)\n",
    ">>> nf.diffusivitySteps()\n",
    "25\n",
    ">>> nf.deriveStickNodes(0.3)\n",
    "11"
   ]
  }
 ],
 "metadata": {
  "kernelspec": {
   "display_name": "Python 3",
   "language": "python",
   "name": "python3"
  },
  "language_info": {
   "codemirror_mode": {
    "name": "ipython",
    "version": 2
   },
   "file_extension": ".py",
   "mimetype": "text/x-python",
   "name": "python",
   "nbconvert_exporter": "python",
   "pygments_lexer": "ipython2",
   "version": "2.7.6"
  }
 },
 "nbformat": 4,
 "nbformat_minor": 5
}
