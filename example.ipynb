{
 "cells": [
  {
   "metadata": {
    "ExecuteTime": {
     "end_time": "2025-01-29T01:34:44.630376Z",
     "start_time": "2025-01-29T01:34:44.622166Z"
    }
   },
   "cell_type": "code",
   "source": "import nfdrs4py",
   "id": "8bd818ba85b5a52a",
   "outputs": [],
   "execution_count": 2
  },
  {
   "metadata": {
    "ExecuteTime": {
     "end_time": "2025-01-29T01:34:45.170450Z",
     "start_time": "2025-01-29T01:34:45.167300Z"
    }
   },
   "cell_type": "code",
   "source": "params = nfdrs4py.CNFDRSParams()",
   "id": "1a9fb92eb8d69d04",
   "outputs": [],
   "execution_count": 3
  },
  {
   "metadata": {
    "ExecuteTime": {
     "end_time": "2025-01-29T01:35:44.759977Z",
     "start_time": "2025-01-29T01:35:44.757287Z"
    }
   },
   "cell_type": "code",
   "source": "model = nfdrs4py.NFDRS4()",
   "id": "e26e54f615382ac9",
   "outputs": [],
   "execution_count": 5
  },
  {
   "metadata": {
    "ExecuteTime": {
     "end_time": "2025-01-29T01:37:14.299026Z",
     "start_time": "2025-01-29T01:37:14.296103Z"
    }
   },
   "cell_type": "code",
   "source": "gsi_params = params.getGsiParams()",
   "id": "9fdc33050a5fdcce",
   "outputs": [],
   "execution_count": 10
  },
  {
   "metadata": {
    "ExecuteTime": {
     "end_time": "2025-01-29T01:39:16.963821Z",
     "start_time": "2025-01-29T01:39:16.952762Z"
    }
   },
   "cell_type": "code",
   "source": "",
   "id": "5eab2c56a83ad948",
   "outputs": [
    {
     "ename": "TypeError",
     "evalue": "'CGSIParams' object is not iterable",
     "output_type": "error",
     "traceback": [
      "\u001B[1;31m---------------------------------------------------------------------------\u001B[0m",
      "\u001B[1;31mTypeError\u001B[0m                                 Traceback (most recent call last)",
      "Cell \u001B[1;32mIn[16], line 1\u001B[0m\n\u001B[1;32m----> 1\u001B[0m \u001B[38;5;28;43mdict\u001B[39;49m\u001B[43m(\u001B[49m\u001B[43mgsi_params\u001B[49m\u001B[43m)\u001B[49m\n",
      "\u001B[1;31mTypeError\u001B[0m: 'CGSIParams' object is not iterable"
     ]
    }
   ],
   "execution_count": 16
  },
  {
   "metadata": {
    "ExecuteTime": {
     "end_time": "2025-01-29T01:35:53.273457Z",
     "start_time": "2025-01-29T01:35:53.270154Z"
    }
   },
   "cell_type": "code",
   "source": "params.InitNFDRS(model)",
   "id": "d0d665cdf7c55dd0",
   "outputs": [],
   "execution_count": 6
  },
  {
   "metadata": {
    "ExecuteTime": {
     "end_time": "2025-01-29T01:36:28.415247Z",
     "start_time": "2025-01-29T01:36:28.411766Z"
    }
   },
   "cell_type": "code",
   "source": "model.GetMaxTemp()",
   "id": "d5a5ea4f02febae2",
   "outputs": [
    {
     "data": {
      "text/plain": [
       "-999.0"
      ]
     },
     "execution_count": 9,
     "metadata": {},
     "output_type": "execute_result"
    }
   ],
   "execution_count": 9
  },
  {
   "metadata": {},
   "cell_type": "code",
   "outputs": [],
   "execution_count": null,
   "source": "nfdrs4py.NFDRS4()",
   "id": "6b3f9624965539cb"
  },
  {
   "metadata": {
    "ExecuteTime": {
     "end_time": "2025-01-28T23:27:22.705493Z",
     "start_time": "2025-01-28T23:27:22.700840Z"
    }
   },
   "cell_type": "code",
   "source": [
    "conditions = nfdrs4py.NFDRS4()\n",
    "conditions.Init(45,)"
   ],
   "id": "f491b60b7cf38446",
   "outputs": [],
   "execution_count": 6
  },
  {
   "metadata": {
    "ExecuteTime": {
     "end_time": "2025-01-28T23:31:42.159798Z",
     "start_time": "2025-01-28T23:31:42.156520Z"
    }
   },
   "cell_type": "code",
   "source": [
    "print(conditions.MC1,\n",
    "conditions.MC10,\n",
    "conditions.MC100,\n",
    "conditions.MC1000)"
   ],
   "id": "a8401dccfaa91149",
   "outputs": [
    {
     "name": "stdout",
     "output_type": "stream",
     "text": [
      "1.147590644431e-311 1.147590644494e-311 1.1475906445574e-311 1.1475906446206e-311\n"
     ]
    }
   ],
   "execution_count": 13
  },
  {
   "metadata": {
    "ExecuteTime": {
     "end_time": "2025-01-28T22:33:03.622535Z",
     "start_time": "2025-01-28T22:33:03.293425Z"
    }
   },
   "cell_type": "code",
   "source": "help(fuel.update())",
   "id": "6afe27952353b4ae",
   "outputs": [
    {
     "ename": "NotImplementedError",
     "evalue": "Wrong number or type of arguments for overloaded function 'DeadFuelMoisture_update'.\n  Possible C/C++ prototypes are:\n    DeadFuelMoisture::update(int,int,int,int,int,int,double,double,double,double,double,bool)\n    DeadFuelMoisture::update(int,int,int,int,int,int,double,double,double,double,double)\n    DeadFuelMoisture::update(int,int,int,int,int,int,double,double,double,double)\n    DeadFuelMoisture::update(double,double,double,double,double,double,bool)\n    DeadFuelMoisture::update(double,double,double,double,double,double)\n    DeadFuelMoisture::update(double,double,double,double,double)\n",
     "output_type": "error",
     "traceback": [
      "\u001B[1;31m---------------------------------------------------------------------------\u001B[0m",
      "\u001B[1;31mNotImplementedError\u001B[0m                       Traceback (most recent call last)",
      "Cell \u001B[1;32mIn[5], line 1\u001B[0m\n\u001B[1;32m----> 1\u001B[0m help(\u001B[43mfuel\u001B[49m\u001B[38;5;241;43m.\u001B[39;49m\u001B[43mupdate\u001B[49m\u001B[43m(\u001B[49m\u001B[43m)\u001B[49m)\n",
      "File \u001B[1;32m~\\miniforge3\\envs\\NFDRS4py\\Lib\\site-packages\\nfdrs4py\\nfdrs4.py:240\u001B[0m, in \u001B[0;36mDeadFuelMoisture.update\u001B[1;34m(self, *args)\u001B[0m\n\u001B[0;32m    239\u001B[0m \u001B[38;5;28;01mdef\u001B[39;00m\u001B[38;5;250m \u001B[39m\u001B[38;5;21mupdate\u001B[39m(\u001B[38;5;28mself\u001B[39m, \u001B[38;5;241m*\u001B[39margs):\n\u001B[1;32m--> 240\u001B[0m     \u001B[38;5;28;01mreturn\u001B[39;00m \u001B[43m_nfdrs4\u001B[49m\u001B[38;5;241;43m.\u001B[39;49m\u001B[43mDeadFuelMoisture_update\u001B[49m\u001B[43m(\u001B[49m\u001B[38;5;28;43mself\u001B[39;49m\u001B[43m,\u001B[49m\u001B[43m \u001B[49m\u001B[38;5;241;43m*\u001B[39;49m\u001B[43margs\u001B[49m\u001B[43m)\u001B[49m\n",
      "\u001B[1;31mNotImplementedError\u001B[0m: Wrong number or type of arguments for overloaded function 'DeadFuelMoisture_update'.\n  Possible C/C++ prototypes are:\n    DeadFuelMoisture::update(int,int,int,int,int,int,double,double,double,double,double,bool)\n    DeadFuelMoisture::update(int,int,int,int,int,int,double,double,double,double,double)\n    DeadFuelMoisture::update(int,int,int,int,int,int,double,double,double,double)\n    DeadFuelMoisture::update(double,double,double,double,double,double,bool)\n    DeadFuelMoisture::update(double,double,double,double,double,double)\n    DeadFuelMoisture::update(double,double,double,double,double)\n"
     ]
    }
   ],
   "execution_count": 5
  },
  {
   "metadata": {},
   "cell_type": "code",
   "outputs": [],
   "execution_count": null,
   "source": "nfdrs4py.NFDRS4.",
   "id": "60f08ed200a7aa37"
  },
  {
   "cell_type": "code",
   "execution_count": null,
   "id": "initial_id",
   "metadata": {
    "collapsed": true
   },
   "outputs": [],
   "source": [
    "nf= nfdrs4py.DeadFuelMoisture.createDeadFuelMoisture1()\n",
    ">>> nf.update(1,1,1,1,1)\n",
    "True\n",
    ">>> nf.medianRadialMoisture()\n",
    "0.5606049792805294\n",
    ">>> nf.setAdsorptionRate(0.4)\n",
    ">>> nf.diffusivitySteps()\n",
    "25\n",
    ">>> nf.deriveStickNodes(0.3)\n",
    "11"
   ]
  }
 ],
 "metadata": {
  "kernelspec": {
   "display_name": "Python 3",
   "language": "python",
   "name": "python3"
  },
  "language_info": {
   "codemirror_mode": {
    "name": "ipython",
    "version": 2
   },
   "file_extension": ".py",
   "mimetype": "text/x-python",
   "name": "python",
   "nbconvert_exporter": "python",
   "pygments_lexer": "ipython2",
   "version": "2.7.6"
  }
 },
 "nbformat": 4,
 "nbformat_minor": 5
}
